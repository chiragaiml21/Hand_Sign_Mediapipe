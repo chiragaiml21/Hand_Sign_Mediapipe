{
 "cells": [
  {
   "cell_type": "code",
   "execution_count": 103,
   "metadata": {},
   "outputs": [],
   "source": [
    "import os\n",
    "import numpy as np\n",
    "from sklearn.model_selection import train_test_split\n",
    "from tensorflow.keras.utils import to_categorical\n",
    "from tensorflow.keras.models import Sequential\n",
    "from tensorflow.keras.layers import LSTM, Dense, Dropout\n",
    "from tensorflow.keras.callbacks import TensorBoard\n",
    "from tensorflow.keras.optimizers import Adam\n",
    "from sklearn.metrics import multilabel_confusion_matrix, accuracy_score"
   ]
  },
  {
   "cell_type": "code",
   "execution_count": 104,
   "metadata": {},
   "outputs": [
    {
     "data": {
      "text/plain": [
       "array([ 0.51613885,  0.5281536 , -0.65717638, ...,  0.        ,\n",
       "        0.        ,  0.        ])"
      ]
     },
     "execution_count": 104,
     "metadata": {},
     "output_type": "execute_result"
    }
   ],
   "source": [
    "np.load('../0.npy', allow_pickle=True)"
   ]
  },
  {
   "cell_type": "code",
   "execution_count": 112,
   "metadata": {},
   "outputs": [
    {
     "name": "stdout",
     "output_type": "stream",
     "text": [
      "['hello' 'is' 'my' 'name']\n"
     ]
    }
   ],
   "source": [
    "#Path for exported data, numpy arrays\n",
    "DATA_PATH = os.path.join('../collected_data')\n",
    "\n",
    "actions = []\n",
    "actions.sort()\n",
    "#Actions that we try to detect\n",
    "for root, dirs, files in os.walk(DATA_PATH):\n",
    "    for dir_name in dirs:\n",
    "        if not dir_name.isdigit():\n",
    "            actions.append(dir_name)\n",
    "\n",
    "actions = np.array(actions)\n",
    "print(actions)\n",
    "\n",
    "#30 videos worth of data\n",
    "no_sequence = 30\n",
    "\n",
    "#Videos are going to be 30 frames in length\n",
    "sequence_length = 30"
   ]
  },
  {
   "cell_type": "code",
   "execution_count": 113,
   "metadata": {},
   "outputs": [],
   "source": [
    "label_map = {label:num for num, label in enumerate(actions)}"
   ]
  },
  {
   "cell_type": "code",
   "execution_count": 114,
   "metadata": {},
   "outputs": [
    {
     "data": {
      "text/plain": [
       "{'hello': 0, 'is': 1, 'my': 2, 'name': 3}"
      ]
     },
     "execution_count": 114,
     "metadata": {},
     "output_type": "execute_result"
    }
   ],
   "source": [
    "label_map"
   ]
  },
  {
   "cell_type": "code",
   "execution_count": 115,
   "metadata": {},
   "outputs": [],
   "source": [
    "sequences, label = [], []\n",
    "for action in actions:\n",
    "    for sequence in range(no_sequence):\n",
    "        window = []\n",
    "        for frame_num in range(sequence_length):\n",
    "            res = np.load(os.path.join(DATA_PATH, action, str(sequence), \"{}.npy\".format(frame_num)), allow_pickle=True)\n",
    "            window.append(res)\n",
    "        sequences.append(window)\n",
    "        label.append(label_map[action])"
   ]
  },
  {
   "cell_type": "code",
   "execution_count": 116,
   "metadata": {},
   "outputs": [
    {
     "data": {
      "text/plain": [
       "(120, 30, 1662)"
      ]
     },
     "execution_count": 116,
     "metadata": {},
     "output_type": "execute_result"
    }
   ],
   "source": [
    "np.array(sequences).shape"
   ]
  },
  {
   "cell_type": "code",
   "execution_count": 117,
   "metadata": {},
   "outputs": [
    {
     "data": {
      "text/plain": [
       "(120,)"
      ]
     },
     "execution_count": 117,
     "metadata": {},
     "output_type": "execute_result"
    }
   ],
   "source": [
    "np.array(label).shape"
   ]
  },
  {
   "cell_type": "code",
   "execution_count": 118,
   "metadata": {},
   "outputs": [],
   "source": [
    "X = np.array(sequences)\n",
    "y = to_categorical(label).astype(int)"
   ]
  },
  {
   "cell_type": "code",
   "execution_count": 119,
   "metadata": {},
   "outputs": [],
   "source": [
    "X_train, X_test, y_train, y_test = train_test_split(X, y, test_size=0.05)"
   ]
  },
  {
   "cell_type": "code",
   "execution_count": 120,
   "metadata": {},
   "outputs": [],
   "source": [
    "# Python: Launch TensorBoard\n",
    "\n",
    "log_dir = os.path.join('Logs')\n",
    "tb_callback = TensorBoard(log_dir=log_dir)"
   ]
  },
  {
   "cell_type": "code",
   "execution_count": 122,
   "metadata": {},
   "outputs": [],
   "source": [
    "model = Sequential()\n",
    "model.add(LSTM(64, return_sequences=True, activation='relu', input_shape=(30,1662)))\n",
    "model.add(LSTM(128, return_sequences=True, activation='relu'))\n",
    "model.add(LSTM(64, return_sequences=False, activation='relu'))\n",
    "model.add(Dense(64, activation='relu'))\n",
    "model.add(Dropout(0.2))\n",
    "model.add(Dense(32, activation='relu'))\n",
    "model.add(Dropout(0.2))\n",
    "model.add(Dense(actions.shape[0], activation='softmax'))"
   ]
  },
  {
   "cell_type": "code",
   "execution_count": 123,
   "metadata": {},
   "outputs": [],
   "source": [
    "model.compile(optimizer='Adam', loss='categorical_crossentropy', metrics=['categorical_accuracy'])"
   ]
  },
  {
   "cell_type": "code",
   "execution_count": 124,
   "metadata": {},
   "outputs": [
    {
     "name": "stdout",
     "output_type": "stream",
     "text": [
      "Epoch 1/100\n",
      "4/4 [==============================] - 3s 77ms/step - loss: 2.0329 - categorical_accuracy: 0.2456\n",
      "Epoch 2/100\n",
      "4/4 [==============================] - 0s 75ms/step - loss: 1.4949 - categorical_accuracy: 0.2807\n",
      "Epoch 3/100\n",
      "4/4 [==============================] - 0s 75ms/step - loss: 2.3610 - categorical_accuracy: 0.3070\n",
      "Epoch 4/100\n",
      "4/4 [==============================] - 0s 83ms/step - loss: 1.5254 - categorical_accuracy: 0.2281\n",
      "Epoch 5/100\n",
      "4/4 [==============================] - 0s 79ms/step - loss: 1.4389 - categorical_accuracy: 0.2895\n",
      "Epoch 6/100\n",
      "4/4 [==============================] - 0s 73ms/step - loss: 1.2051 - categorical_accuracy: 0.4737\n",
      "Epoch 7/100\n",
      "4/4 [==============================] - 0s 76ms/step - loss: 1.0269 - categorical_accuracy: 0.4737\n",
      "Epoch 8/100\n",
      "4/4 [==============================] - 0s 75ms/step - loss: 1.1634 - categorical_accuracy: 0.4825\n",
      "Epoch 9/100\n",
      "4/4 [==============================] - 0s 87ms/step - loss: 1.2770 - categorical_accuracy: 0.4298\n",
      "Epoch 10/100\n",
      "4/4 [==============================] - 0s 74ms/step - loss: 1.1657 - categorical_accuracy: 0.4561\n",
      "Epoch 11/100\n",
      "4/4 [==============================] - 0s 70ms/step - loss: 0.9332 - categorical_accuracy: 0.6316\n",
      "Epoch 12/100\n",
      "4/4 [==============================] - 0s 75ms/step - loss: 1.0292 - categorical_accuracy: 0.5877\n",
      "Epoch 13/100\n",
      "4/4 [==============================] - 0s 74ms/step - loss: 0.7805 - categorical_accuracy: 0.7105\n",
      "Epoch 14/100\n",
      "4/4 [==============================] - 0s 74ms/step - loss: 0.7236 - categorical_accuracy: 0.7281\n",
      "Epoch 15/100\n",
      "4/4 [==============================] - 0s 74ms/step - loss: 0.6250 - categorical_accuracy: 0.8333\n",
      "Epoch 16/100\n",
      "4/4 [==============================] - 0s 69ms/step - loss: 0.6279 - categorical_accuracy: 0.8158\n",
      "Epoch 17/100\n",
      "4/4 [==============================] - 0s 67ms/step - loss: 0.8501 - categorical_accuracy: 0.7281\n",
      "Epoch 18/100\n",
      "4/4 [==============================] - 0s 69ms/step - loss: 0.6471 - categorical_accuracy: 0.7719\n",
      "Epoch 19/100\n",
      "4/4 [==============================] - 0s 69ms/step - loss: 0.9352 - categorical_accuracy: 0.6491\n",
      "Epoch 20/100\n",
      "4/4 [==============================] - 0s 69ms/step - loss: 0.8260 - categorical_accuracy: 0.6754\n",
      "Epoch 21/100\n",
      "4/4 [==============================] - 0s 74ms/step - loss: 0.6784 - categorical_accuracy: 0.6667\n",
      "Epoch 22/100\n",
      "4/4 [==============================] - 0s 68ms/step - loss: 0.5665 - categorical_accuracy: 0.7456\n",
      "Epoch 23/100\n",
      "4/4 [==============================] - 0s 69ms/step - loss: 0.4697 - categorical_accuracy: 0.7632\n",
      "Epoch 24/100\n",
      "4/4 [==============================] - 0s 68ms/step - loss: 0.5326 - categorical_accuracy: 0.7719\n",
      "Epoch 25/100\n",
      "4/4 [==============================] - 0s 70ms/step - loss: 0.3321 - categorical_accuracy: 0.8684\n",
      "Epoch 26/100\n",
      "4/4 [==============================] - 0s 70ms/step - loss: 0.6951 - categorical_accuracy: 0.7807\n",
      "Epoch 27/100\n",
      "4/4 [==============================] - 0s 71ms/step - loss: 0.9979 - categorical_accuracy: 0.6140\n",
      "Epoch 28/100\n",
      "4/4 [==============================] - 0s 70ms/step - loss: 0.5114 - categorical_accuracy: 0.8158\n",
      "Epoch 29/100\n",
      "4/4 [==============================] - 0s 76ms/step - loss: 0.5867 - categorical_accuracy: 0.7719\n",
      "Epoch 30/100\n",
      "4/4 [==============================] - 0s 69ms/step - loss: 0.4284 - categorical_accuracy: 0.9211\n",
      "Epoch 31/100\n",
      "4/4 [==============================] - 0s 70ms/step - loss: 0.3466 - categorical_accuracy: 0.9298\n",
      "Epoch 32/100\n",
      "4/4 [==============================] - 0s 73ms/step - loss: 0.3091 - categorical_accuracy: 0.9123\n",
      "Epoch 33/100\n",
      "4/4 [==============================] - 0s 76ms/step - loss: 0.3025 - categorical_accuracy: 0.9123\n",
      "Epoch 34/100\n",
      "4/4 [==============================] - 0s 68ms/step - loss: 0.4181 - categorical_accuracy: 0.8684\n",
      "Epoch 35/100\n",
      "4/4 [==============================] - 0s 71ms/step - loss: 0.3709 - categorical_accuracy: 0.8860\n",
      "Epoch 36/100\n",
      "4/4 [==============================] - 0s 70ms/step - loss: 2.1608 - categorical_accuracy: 0.8421\n",
      "Epoch 37/100\n",
      "4/4 [==============================] - 0s 75ms/step - loss: 0.3926 - categorical_accuracy: 0.8772\n",
      "Epoch 38/100\n",
      "4/4 [==============================] - 0s 69ms/step - loss: 0.5268 - categorical_accuracy: 0.8684\n",
      "Epoch 39/100\n",
      "4/4 [==============================] - 0s 68ms/step - loss: 0.4885 - categorical_accuracy: 0.9386\n",
      "Epoch 40/100\n",
      "4/4 [==============================] - 0s 69ms/step - loss: 0.4932 - categorical_accuracy: 0.9035\n",
      "Epoch 41/100\n",
      "4/4 [==============================] - 0s 68ms/step - loss: 0.3935 - categorical_accuracy: 0.9561\n",
      "Epoch 42/100\n",
      "4/4 [==============================] - 0s 72ms/step - loss: 0.2721 - categorical_accuracy: 0.9561\n",
      "Epoch 43/100\n",
      "4/4 [==============================] - 0s 70ms/step - loss: 0.1913 - categorical_accuracy: 0.9649\n",
      "Epoch 44/100\n",
      "4/4 [==============================] - 0s 71ms/step - loss: 0.2613 - categorical_accuracy: 0.8947\n",
      "Epoch 45/100\n",
      "4/4 [==============================] - 0s 69ms/step - loss: 0.2303 - categorical_accuracy: 0.9035\n",
      "Epoch 46/100\n",
      "4/4 [==============================] - 0s 73ms/step - loss: 0.1919 - categorical_accuracy: 0.9737\n",
      "Epoch 47/100\n",
      "4/4 [==============================] - 0s 74ms/step - loss: 0.2360 - categorical_accuracy: 0.9298\n",
      "Epoch 48/100\n",
      "4/4 [==============================] - 0s 72ms/step - loss: 0.2196 - categorical_accuracy: 0.9386\n",
      "Epoch 49/100\n",
      "4/4 [==============================] - 0s 77ms/step - loss: 0.1435 - categorical_accuracy: 0.9561\n",
      "Epoch 50/100\n",
      "4/4 [==============================] - 0s 70ms/step - loss: 0.1111 - categorical_accuracy: 0.9825\n",
      "Epoch 51/100\n",
      "4/4 [==============================] - 0s 72ms/step - loss: 0.0607 - categorical_accuracy: 0.9912\n",
      "Epoch 52/100\n",
      "4/4 [==============================] - 0s 68ms/step - loss: 0.0921 - categorical_accuracy: 0.9825\n",
      "Epoch 53/100\n",
      "4/4 [==============================] - 0s 77ms/step - loss: 0.1173 - categorical_accuracy: 0.9561\n",
      "Epoch 54/100\n",
      "4/4 [==============================] - 0s 71ms/step - loss: 0.1814 - categorical_accuracy: 0.9825\n",
      "Epoch 55/100\n",
      "4/4 [==============================] - 0s 72ms/step - loss: 0.2107 - categorical_accuracy: 0.9474\n",
      "Epoch 56/100\n",
      "4/4 [==============================] - 0s 72ms/step - loss: 0.1394 - categorical_accuracy: 0.9561\n",
      "Epoch 57/100\n",
      "4/4 [==============================] - 0s 80ms/step - loss: 0.1686 - categorical_accuracy: 0.9561\n",
      "Epoch 58/100\n",
      "4/4 [==============================] - 0s 73ms/step - loss: 0.0989 - categorical_accuracy: 0.9649\n",
      "Epoch 59/100\n",
      "4/4 [==============================] - 0s 72ms/step - loss: 0.1222 - categorical_accuracy: 0.9561\n",
      "Epoch 60/100\n",
      "4/4 [==============================] - 0s 73ms/step - loss: 0.0919 - categorical_accuracy: 0.9737\n",
      "Epoch 61/100\n",
      "4/4 [==============================] - 0s 77ms/step - loss: 0.0671 - categorical_accuracy: 0.9737\n",
      "Epoch 62/100\n",
      "4/4 [==============================] - 0s 75ms/step - loss: 0.1246 - categorical_accuracy: 0.9825\n",
      "Epoch 63/100\n",
      "4/4 [==============================] - 0s 74ms/step - loss: 0.0868 - categorical_accuracy: 0.9649\n",
      "Epoch 64/100\n",
      "4/4 [==============================] - 0s 73ms/step - loss: 0.1926 - categorical_accuracy: 0.9474\n",
      "Epoch 65/100\n",
      "4/4 [==============================] - 0s 79ms/step - loss: 0.1255 - categorical_accuracy: 0.9649\n",
      "Epoch 66/100\n",
      "4/4 [==============================] - 0s 74ms/step - loss: 0.1408 - categorical_accuracy: 0.9737\n",
      "Epoch 67/100\n",
      "4/4 [==============================] - 0s 74ms/step - loss: 0.0739 - categorical_accuracy: 0.9912\n",
      "Epoch 68/100\n",
      "4/4 [==============================] - 0s 76ms/step - loss: 0.0685 - categorical_accuracy: 0.9912\n",
      "Epoch 69/100\n",
      "4/4 [==============================] - 0s 75ms/step - loss: 0.0370 - categorical_accuracy: 0.9825\n",
      "Epoch 70/100\n",
      "4/4 [==============================] - 0s 75ms/step - loss: 0.0331 - categorical_accuracy: 1.0000\n",
      "Epoch 71/100\n",
      "4/4 [==============================] - 0s 77ms/step - loss: 0.0743 - categorical_accuracy: 0.9912\n",
      "Epoch 72/100\n",
      "4/4 [==============================] - 0s 77ms/step - loss: 0.0539 - categorical_accuracy: 0.9825\n",
      "Epoch 73/100\n",
      "4/4 [==============================] - 0s 76ms/step - loss: 0.0800 - categorical_accuracy: 0.9912\n",
      "Epoch 74/100\n",
      "4/4 [==============================] - 0s 73ms/step - loss: 0.0549 - categorical_accuracy: 0.9825\n",
      "Epoch 75/100\n",
      "4/4 [==============================] - 0s 75ms/step - loss: 0.0500 - categorical_accuracy: 0.9912\n",
      "Epoch 76/100\n",
      "4/4 [==============================] - 0s 74ms/step - loss: 0.0568 - categorical_accuracy: 0.9912\n",
      "Epoch 77/100\n",
      "4/4 [==============================] - 0s 76ms/step - loss: 0.0983 - categorical_accuracy: 0.9737\n",
      "Epoch 78/100\n",
      "4/4 [==============================] - 0s 72ms/step - loss: 0.0341 - categorical_accuracy: 0.9912\n",
      "Epoch 79/100\n",
      "4/4 [==============================] - 0s 74ms/step - loss: 0.0564 - categorical_accuracy: 0.9825\n",
      "Epoch 80/100\n",
      "4/4 [==============================] - 0s 74ms/step - loss: 0.0529 - categorical_accuracy: 0.9912\n",
      "Epoch 81/100\n",
      "4/4 [==============================] - 0s 77ms/step - loss: 0.0594 - categorical_accuracy: 0.9825\n",
      "Epoch 82/100\n",
      "4/4 [==============================] - 0s 77ms/step - loss: 0.0374 - categorical_accuracy: 0.9825\n",
      "Epoch 83/100\n",
      "4/4 [==============================] - 0s 76ms/step - loss: 0.0914 - categorical_accuracy: 0.9737\n",
      "Epoch 84/100\n",
      "4/4 [==============================] - 0s 81ms/step - loss: 0.0565 - categorical_accuracy: 0.9912\n",
      "Epoch 85/100\n",
      "4/4 [==============================] - 0s 75ms/step - loss: 0.0708 - categorical_accuracy: 0.9912\n",
      "Epoch 86/100\n",
      "4/4 [==============================] - 0s 75ms/step - loss: 0.0975 - categorical_accuracy: 0.9561\n",
      "Epoch 87/100\n",
      "4/4 [==============================] - 0s 76ms/step - loss: 0.1875 - categorical_accuracy: 0.9561\n",
      "Epoch 88/100\n",
      "4/4 [==============================] - 0s 81ms/step - loss: 0.2719 - categorical_accuracy: 0.9474\n",
      "Epoch 89/100\n",
      "4/4 [==============================] - 0s 75ms/step - loss: 0.2286 - categorical_accuracy: 0.9386\n",
      "Epoch 90/100\n",
      "4/4 [==============================] - 0s 74ms/step - loss: 0.0855 - categorical_accuracy: 0.9912\n",
      "Epoch 91/100\n",
      "4/4 [==============================] - 0s 75ms/step - loss: 0.1561 - categorical_accuracy: 0.9737\n",
      "Epoch 92/100\n",
      "4/4 [==============================] - 0s 78ms/step - loss: 0.0919 - categorical_accuracy: 0.9737\n",
      "Epoch 93/100\n",
      "4/4 [==============================] - 0s 73ms/step - loss: 0.0534 - categorical_accuracy: 0.9912\n",
      "Epoch 94/100\n",
      "4/4 [==============================] - 0s 76ms/step - loss: 0.0790 - categorical_accuracy: 0.9737\n",
      "Epoch 95/100\n",
      "4/4 [==============================] - 0s 76ms/step - loss: 0.1447 - categorical_accuracy: 0.9737\n",
      "Epoch 96/100\n",
      "4/4 [==============================] - 0s 83ms/step - loss: 0.1129 - categorical_accuracy: 0.9561\n",
      "Epoch 97/100\n",
      "4/4 [==============================] - 0s 71ms/step - loss: 0.2282 - categorical_accuracy: 0.9474\n",
      "Epoch 98/100\n",
      "4/4 [==============================] - 0s 69ms/step - loss: 0.2437 - categorical_accuracy: 0.9123\n",
      "Epoch 99/100\n",
      "4/4 [==============================] - 0s 68ms/step - loss: 0.4721 - categorical_accuracy: 0.8684\n",
      "Epoch 100/100\n",
      "4/4 [==============================] - 0s 76ms/step - loss: 0.2941 - categorical_accuracy: 0.8772\n"
     ]
    },
    {
     "data": {
      "text/plain": [
       "<keras.callbacks.History at 0x26b0a037580>"
      ]
     },
     "execution_count": 124,
     "metadata": {},
     "output_type": "execute_result"
    }
   ],
   "source": [
    "model.fit(X_train, y_train, epochs=100, callbacks=[tb_callback])"
   ]
  },
  {
   "cell_type": "code",
   "execution_count": 125,
   "metadata": {},
   "outputs": [
    {
     "name": "stdout",
     "output_type": "stream",
     "text": [
      "Model: \"sequential_8\"\n",
      "_________________________________________________________________\n",
      " Layer (type)                Output Shape              Param #   \n",
      "=================================================================\n",
      " lstm_24 (LSTM)              (None, 30, 64)            442112    \n",
      "                                                                 \n",
      " lstm_25 (LSTM)              (None, 30, 128)           98816     \n",
      "                                                                 \n",
      " lstm_26 (LSTM)              (None, 64)                49408     \n",
      "                                                                 \n",
      " dense_24 (Dense)            (None, 64)                4160      \n",
      "                                                                 \n",
      " dropout_10 (Dropout)        (None, 64)                0         \n",
      "                                                                 \n",
      " dense_25 (Dense)            (None, 32)                2080      \n",
      "                                                                 \n",
      " dropout_11 (Dropout)        (None, 32)                0         \n",
      "                                                                 \n",
      " dense_26 (Dense)            (None, 4)                 132       \n",
      "                                                                 \n",
      "=================================================================\n",
      "Total params: 596,708\n",
      "Trainable params: 596,708\n",
      "Non-trainable params: 0\n",
      "_________________________________________________________________\n"
     ]
    }
   ],
   "source": [
    "model.summary()"
   ]
  },
  {
   "cell_type": "code",
   "execution_count": 126,
   "metadata": {},
   "outputs": [
    {
     "name": "stdout",
     "output_type": "stream",
     "text": [
      "1/1 [==============================] - 0s 261ms/step\n"
     ]
    }
   ],
   "source": [
    "res = model.predict(X_test)"
   ]
  },
  {
   "cell_type": "code",
   "execution_count": 127,
   "metadata": {},
   "outputs": [
    {
     "data": {
      "text/plain": [
       "'my'"
      ]
     },
     "execution_count": 127,
     "metadata": {},
     "output_type": "execute_result"
    }
   ],
   "source": [
    "actions[np.argmax(res[0])]"
   ]
  },
  {
   "cell_type": "code",
   "execution_count": 128,
   "metadata": {},
   "outputs": [
    {
     "data": {
      "text/plain": [
       "'my'"
      ]
     },
     "execution_count": 128,
     "metadata": {},
     "output_type": "execute_result"
    }
   ],
   "source": [
    "actions[np.argmax(y_test[0])]"
   ]
  },
  {
   "cell_type": "code",
   "execution_count": 129,
   "metadata": {},
   "outputs": [],
   "source": [
    "model.save('..//models//alphabets.h5')"
   ]
  },
  {
   "cell_type": "code",
   "execution_count": 130,
   "metadata": {},
   "outputs": [
    {
     "name": "stdout",
     "output_type": "stream",
     "text": [
      "4/4 [==============================] - 0s 27ms/step\n"
     ]
    }
   ],
   "source": [
    "yhat = model.predict(X_train)"
   ]
  },
  {
   "cell_type": "code",
   "execution_count": 131,
   "metadata": {},
   "outputs": [],
   "source": [
    "ytrue = np.argmax(y_train, axis=1).tolist()\n",
    "yhat = np.argmax(yhat, axis=1).tolist()"
   ]
  },
  {
   "cell_type": "code",
   "execution_count": 132,
   "metadata": {},
   "outputs": [
    {
     "data": {
      "text/plain": [
       "array([[[84,  1],\n",
       "        [ 0, 29]],\n",
       "\n",
       "       [[85,  0],\n",
       "        [ 0, 29]],\n",
       "\n",
       "       [[85,  0],\n",
       "        [ 1, 28]],\n",
       "\n",
       "       [[87,  0],\n",
       "        [ 0, 27]]], dtype=int64)"
      ]
     },
     "execution_count": 132,
     "metadata": {},
     "output_type": "execute_result"
    }
   ],
   "source": [
    "multilabel_confusion_matrix(ytrue, yhat)"
   ]
  },
  {
   "cell_type": "code",
   "execution_count": 133,
   "metadata": {},
   "outputs": [
    {
     "data": {
      "text/plain": [
       "0.9912280701754386"
      ]
     },
     "execution_count": 133,
     "metadata": {},
     "output_type": "execute_result"
    }
   ],
   "source": [
    "accuracy_score(ytrue, yhat)"
   ]
  },
  {
   "cell_type": "code",
   "execution_count": null,
   "metadata": {},
   "outputs": [],
   "source": []
  },
  {
   "cell_type": "code",
   "execution_count": null,
   "metadata": {},
   "outputs": [],
   "source": []
  }
 ],
 "metadata": {
  "kernelspec": {
   "display_name": "Python 3",
   "language": "python",
   "name": "python3"
  },
  "language_info": {
   "codemirror_mode": {
    "name": "ipython",
    "version": 3
   },
   "file_extension": ".py",
   "mimetype": "text/x-python",
   "name": "python",
   "nbconvert_exporter": "python",
   "pygments_lexer": "ipython3",
   "version": "3.10.9"
  },
  "orig_nbformat": 4
 },
 "nbformat": 4,
 "nbformat_minor": 2
}
