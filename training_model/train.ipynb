{
 "cells": [
  {
   "cell_type": "code",
   "execution_count": 139,
   "metadata": {},
   "outputs": [],
   "source": [
    "import os\n",
    "import numpy as np\n",
    "from sklearn.model_selection import train_test_split\n",
    "from tensorflow.keras.utils import to_categorical\n",
    "from tensorflow.keras.models import Sequential\n",
    "from tensorflow.keras.layers import LSTM, Dense, Dropout\n",
    "from tensorflow.keras.callbacks import TensorBoard\n",
    "from sklearn.metrics import multilabel_confusion_matrix, accuracy_score"
   ]
  },
  {
   "cell_type": "code",
   "execution_count": 140,
   "metadata": {},
   "outputs": [
    {
     "data": {
      "text/plain": [
       "array([ 0.50839818,  0.27644575, -0.5151608 , ...,  0.        ,\n",
       "        0.        ,  0.        ])"
      ]
     },
     "execution_count": 140,
     "metadata": {},
     "output_type": "execute_result"
    }
   ],
   "source": [
    "np.load('../0.npy')"
   ]
  },
  {
   "cell_type": "code",
   "execution_count": 141,
   "metadata": {},
   "outputs": [],
   "source": [
    "#Path for exported data, numpy arrays\n",
    "DATA_PATH = os.path.join('..//collected_data')\n",
    "\n",
    "#Actions that we try to detect\n",
    "actions = np.array(['hello', 'my', 'name', 'is'])\n",
    "\n",
    "#30 videos worth of data\n",
    "no_sequence = 30\n",
    "\n",
    "#Videos are going to be 30 frames in length\n",
    "sequence_length = 30"
   ]
  },
  {
   "cell_type": "code",
   "execution_count": 142,
   "metadata": {},
   "outputs": [],
   "source": [
    "label_map = {label:num for num, label in enumerate(actions)}"
   ]
  },
  {
   "cell_type": "code",
   "execution_count": 143,
   "metadata": {},
   "outputs": [
    {
     "data": {
      "text/plain": [
       "{'hello': 0, 'my': 1, 'name': 2, 'is': 3}"
      ]
     },
     "execution_count": 143,
     "metadata": {},
     "output_type": "execute_result"
    }
   ],
   "source": [
    "label_map"
   ]
  },
  {
   "cell_type": "code",
   "execution_count": 144,
   "metadata": {},
   "outputs": [],
   "source": [
    "sequences, label = [], []\n",
    "for action in actions:\n",
    "    for sequence in range(no_sequence):\n",
    "        window = []\n",
    "        for frame_num in range(sequence_length):\n",
    "            res = np.load(os.path.join(DATA_PATH, action, str(sequence), \"{}.npy\".format(frame_num)))\n",
    "            window.append(res)\n",
    "        sequences.append(window)\n",
    "        label.append(label_map[action])"
   ]
  },
  {
   "cell_type": "code",
   "execution_count": 145,
   "metadata": {},
   "outputs": [
    {
     "data": {
      "text/plain": [
       "(120, 30, 1662)"
      ]
     },
     "execution_count": 145,
     "metadata": {},
     "output_type": "execute_result"
    }
   ],
   "source": [
    "np.array(sequences).shape"
   ]
  },
  {
   "cell_type": "code",
   "execution_count": 146,
   "metadata": {},
   "outputs": [
    {
     "data": {
      "text/plain": [
       "(120,)"
      ]
     },
     "execution_count": 146,
     "metadata": {},
     "output_type": "execute_result"
    }
   ],
   "source": [
    "np.array(label).shape"
   ]
  },
  {
   "cell_type": "code",
   "execution_count": 147,
   "metadata": {},
   "outputs": [],
   "source": [
    "X = np.array(sequences)\n",
    "y = to_categorical(label).astype(int)"
   ]
  },
  {
   "cell_type": "code",
   "execution_count": 148,
   "metadata": {},
   "outputs": [],
   "source": [
    "X_train, X_test, y_train, y_test = train_test_split(X, y, test_size=0.05)"
   ]
  },
  {
   "cell_type": "code",
   "execution_count": 149,
   "metadata": {},
   "outputs": [],
   "source": [
    "# Python: Launch TensorBoard\n",
    "\n",
    "log_dir = os.path.join('Logs')\n",
    "tb_callback = TensorBoard(log_dir=log_dir)"
   ]
  },
  {
   "cell_type": "code",
   "execution_count": 168,
   "metadata": {},
   "outputs": [],
   "source": [
    "model = Sequential()\n",
    "model.add(LSTM(64, return_sequences=True, activation='relu', input_shape=(30,1662)))\n",
    "model.add(LSTM(128, return_sequences=True, activation='relu'))\n",
    "model.add(LSTM(64, return_sequences=False, activation='relu'))\n",
    "model.add(Dense(64, activation='relu'))\n",
    "model.add(Dense(32, activation='relu'))\n",
    "model.add(Dense(actions.shape[0], activation='softmax'))"
   ]
  },
  {
   "cell_type": "code",
   "execution_count": 169,
   "metadata": {},
   "outputs": [],
   "source": [
    "model.compile(optimizer='Adam', loss='categorical_crossentropy', metrics=['categorical_accuracy'])"
   ]
  },
  {
   "cell_type": "code",
   "execution_count": 170,
   "metadata": {},
   "outputs": [
    {
     "name": "stdout",
     "output_type": "stream",
     "text": [
      "Epoch 1/100\n",
      "4/4 [==============================] - 3s 74ms/step - loss: 1.7253 - categorical_accuracy: 0.2895\n",
      "Epoch 2/100\n",
      "4/4 [==============================] - 0s 69ms/step - loss: 1.4334 - categorical_accuracy: 0.2456\n",
      "Epoch 3/100\n",
      "4/4 [==============================] - 0s 67ms/step - loss: 1.4119 - categorical_accuracy: 0.2982\n",
      "Epoch 4/100\n",
      "4/4 [==============================] - 0s 69ms/step - loss: 1.3770 - categorical_accuracy: 0.2982\n",
      "Epoch 5/100\n",
      "4/4 [==============================] - 0s 71ms/step - loss: 1.3667 - categorical_accuracy: 0.2368\n",
      "Epoch 6/100\n",
      "4/4 [==============================] - 0s 67ms/step - loss: 1.9611 - categorical_accuracy: 0.3158\n",
      "Epoch 7/100\n",
      "4/4 [==============================] - 0s 77ms/step - loss: 1.4067 - categorical_accuracy: 0.4649\n",
      "Epoch 8/100\n",
      "4/4 [==============================] - 0s 70ms/step - loss: 1.0922 - categorical_accuracy: 0.5526\n",
      "Epoch 9/100\n",
      "4/4 [==============================] - 0s 65ms/step - loss: 1.0151 - categorical_accuracy: 0.6316\n",
      "Epoch 10/100\n",
      "4/4 [==============================] - 0s 69ms/step - loss: 0.7985 - categorical_accuracy: 0.7895\n",
      "Epoch 11/100\n",
      "4/4 [==============================] - 0s 67ms/step - loss: 0.5972 - categorical_accuracy: 0.8158\n",
      "Epoch 12/100\n",
      "4/4 [==============================] - 0s 69ms/step - loss: 0.4560 - categorical_accuracy: 0.8158\n",
      "Epoch 13/100\n",
      "4/4 [==============================] - 0s 68ms/step - loss: 0.6310 - categorical_accuracy: 0.6491\n",
      "Epoch 14/100\n",
      "4/4 [==============================] - 0s 67ms/step - loss: 0.4055 - categorical_accuracy: 0.8860\n",
      "Epoch 15/100\n",
      "4/4 [==============================] - 0s 67ms/step - loss: 0.4177 - categorical_accuracy: 0.8070\n",
      "Epoch 16/100\n",
      "4/4 [==============================] - 0s 71ms/step - loss: 0.3214 - categorical_accuracy: 0.8860\n",
      "Epoch 17/100\n",
      "4/4 [==============================] - 0s 71ms/step - loss: 0.2918 - categorical_accuracy: 0.9211\n",
      "Epoch 18/100\n",
      "4/4 [==============================] - 0s 69ms/step - loss: 0.2237 - categorical_accuracy: 0.9211\n",
      "Epoch 19/100\n",
      "4/4 [==============================] - 0s 79ms/step - loss: 0.2085 - categorical_accuracy: 0.9386\n",
      "Epoch 20/100\n",
      "4/4 [==============================] - 0s 68ms/step - loss: 0.1654 - categorical_accuracy: 0.9386\n",
      "Epoch 21/100\n",
      "4/4 [==============================] - 0s 69ms/step - loss: 0.2328 - categorical_accuracy: 0.9298\n",
      "Epoch 22/100\n",
      "4/4 [==============================] - 0s 74ms/step - loss: 0.2020 - categorical_accuracy: 0.9123\n",
      "Epoch 23/100\n",
      "4/4 [==============================] - 0s 75ms/step - loss: 0.2886 - categorical_accuracy: 0.9123\n",
      "Epoch 24/100\n",
      "4/4 [==============================] - 0s 72ms/step - loss: 0.3375 - categorical_accuracy: 0.8509\n",
      "Epoch 25/100\n",
      "4/4 [==============================] - 0s 73ms/step - loss: 0.3041 - categorical_accuracy: 0.8772\n",
      "Epoch 26/100\n",
      "4/4 [==============================] - 0s 77ms/step - loss: 0.1281 - categorical_accuracy: 0.9737\n",
      "Epoch 27/100\n",
      "4/4 [==============================] - 0s 76ms/step - loss: 0.1317 - categorical_accuracy: 0.9649\n",
      "Epoch 28/100\n",
      "4/4 [==============================] - 0s 71ms/step - loss: 0.2861 - categorical_accuracy: 0.8596\n",
      "Epoch 29/100\n",
      "4/4 [==============================] - 0s 72ms/step - loss: 0.2001 - categorical_accuracy: 0.9298\n",
      "Epoch 30/100\n",
      "4/4 [==============================] - 0s 70ms/step - loss: 0.1776 - categorical_accuracy: 0.9298\n",
      "Epoch 31/100\n",
      "4/4 [==============================] - 0s 67ms/step - loss: 0.1509 - categorical_accuracy: 0.9737\n",
      "Epoch 32/100\n",
      "4/4 [==============================] - 0s 67ms/step - loss: 0.1383 - categorical_accuracy: 0.9737\n",
      "Epoch 33/100\n",
      "4/4 [==============================] - 0s 74ms/step - loss: 0.1334 - categorical_accuracy: 0.9649\n",
      "Epoch 34/100\n",
      "4/4 [==============================] - 0s 69ms/step - loss: 0.0968 - categorical_accuracy: 0.9649\n",
      "Epoch 35/100\n",
      "4/4 [==============================] - 0s 68ms/step - loss: 0.1311 - categorical_accuracy: 0.9561\n",
      "Epoch 36/100\n",
      "4/4 [==============================] - 0s 69ms/step - loss: 0.2488 - categorical_accuracy: 0.8596\n",
      "Epoch 37/100\n",
      "4/4 [==============================] - 0s 69ms/step - loss: 0.2667 - categorical_accuracy: 0.9298\n",
      "Epoch 38/100\n",
      "4/4 [==============================] - 0s 68ms/step - loss: 0.1797 - categorical_accuracy: 0.9737\n",
      "Epoch 39/100\n",
      "4/4 [==============================] - 0s 66ms/step - loss: 0.0641 - categorical_accuracy: 0.9825\n",
      "Epoch 40/100\n",
      "4/4 [==============================] - 0s 68ms/step - loss: 0.0887 - categorical_accuracy: 0.9737\n",
      "Epoch 41/100\n",
      "4/4 [==============================] - 0s 67ms/step - loss: 0.1590 - categorical_accuracy: 0.9737\n",
      "Epoch 42/100\n",
      "4/4 [==============================] - 0s 72ms/step - loss: 0.0817 - categorical_accuracy: 0.9737\n",
      "Epoch 43/100\n",
      "4/4 [==============================] - 0s 66ms/step - loss: 0.0743 - categorical_accuracy: 0.9825\n",
      "Epoch 44/100\n",
      "4/4 [==============================] - 0s 67ms/step - loss: 0.0996 - categorical_accuracy: 0.9825\n",
      "Epoch 45/100\n",
      "4/4 [==============================] - 0s 70ms/step - loss: 0.0321 - categorical_accuracy: 0.9912\n",
      "Epoch 46/100\n",
      "4/4 [==============================] - 0s 68ms/step - loss: 0.0461 - categorical_accuracy: 0.9912\n",
      "Epoch 47/100\n",
      "4/4 [==============================] - 0s 67ms/step - loss: 0.1178 - categorical_accuracy: 0.9737\n",
      "Epoch 48/100\n",
      "4/4 [==============================] - 0s 67ms/step - loss: 0.0832 - categorical_accuracy: 0.9737\n",
      "Epoch 49/100\n",
      "4/4 [==============================] - 0s 68ms/step - loss: 0.0521 - categorical_accuracy: 0.9912\n",
      "Epoch 50/100\n",
      "4/4 [==============================] - 0s 68ms/step - loss: 0.0571 - categorical_accuracy: 0.9825\n",
      "Epoch 51/100\n",
      "4/4 [==============================] - 0s 67ms/step - loss: 0.0669 - categorical_accuracy: 0.9825\n",
      "Epoch 52/100\n",
      "4/4 [==============================] - 0s 69ms/step - loss: 0.0576 - categorical_accuracy: 0.9825\n",
      "Epoch 53/100\n",
      "4/4 [==============================] - 0s 67ms/step - loss: 0.0518 - categorical_accuracy: 0.9825\n",
      "Epoch 54/100\n",
      "4/4 [==============================] - 0s 67ms/step - loss: 0.0452 - categorical_accuracy: 0.9825\n",
      "Epoch 55/100\n",
      "4/4 [==============================] - 0s 75ms/step - loss: 0.0453 - categorical_accuracy: 0.9825\n",
      "Epoch 56/100\n",
      "4/4 [==============================] - 0s 70ms/step - loss: 0.0434 - categorical_accuracy: 0.9825\n",
      "Epoch 57/100\n",
      "4/4 [==============================] - 0s 68ms/step - loss: 0.0392 - categorical_accuracy: 0.9825\n",
      "Epoch 58/100\n",
      "4/4 [==============================] - 0s 70ms/step - loss: 0.0412 - categorical_accuracy: 0.9825\n",
      "Epoch 59/100\n",
      "4/4 [==============================] - 0s 67ms/step - loss: 0.0453 - categorical_accuracy: 0.9912\n",
      "Epoch 60/100\n",
      "4/4 [==============================] - 0s 70ms/step - loss: 0.0369 - categorical_accuracy: 0.9912\n",
      "Epoch 61/100\n",
      "4/4 [==============================] - 0s 68ms/step - loss: 0.0444 - categorical_accuracy: 0.9912\n",
      "Epoch 62/100\n",
      "4/4 [==============================] - 0s 67ms/step - loss: 0.0574 - categorical_accuracy: 0.9912\n",
      "Epoch 63/100\n",
      "4/4 [==============================] - 0s 66ms/step - loss: 0.0381 - categorical_accuracy: 0.9912\n",
      "Epoch 64/100\n",
      "4/4 [==============================] - 0s 69ms/step - loss: 0.0610 - categorical_accuracy: 0.9737\n",
      "Epoch 65/100\n",
      "4/4 [==============================] - 0s 74ms/step - loss: 0.2279 - categorical_accuracy: 0.9211\n",
      "Epoch 66/100\n",
      "4/4 [==============================] - 0s 68ms/step - loss: 0.4127 - categorical_accuracy: 0.9035\n",
      "Epoch 67/100\n",
      "4/4 [==============================] - 0s 66ms/step - loss: 0.2955 - categorical_accuracy: 0.8684\n",
      "Epoch 68/100\n",
      "4/4 [==============================] - 0s 69ms/step - loss: 0.1678 - categorical_accuracy: 0.9912\n",
      "Epoch 69/100\n",
      "4/4 [==============================] - 0s 68ms/step - loss: 0.1210 - categorical_accuracy: 0.9912\n",
      "Epoch 70/100\n",
      "4/4 [==============================] - 0s 67ms/step - loss: 0.1081 - categorical_accuracy: 0.9737\n",
      "Epoch 71/100\n",
      "4/4 [==============================] - 0s 70ms/step - loss: 0.1481 - categorical_accuracy: 0.9825\n",
      "Epoch 72/100\n",
      "4/4 [==============================] - 0s 70ms/step - loss: 0.0800 - categorical_accuracy: 0.9737\n",
      "Epoch 73/100\n",
      "4/4 [==============================] - 0s 70ms/step - loss: 0.0685 - categorical_accuracy: 0.9737\n",
      "Epoch 74/100\n",
      "4/4 [==============================] - 0s 68ms/step - loss: 0.0705 - categorical_accuracy: 0.9825\n",
      "Epoch 75/100\n",
      "4/4 [==============================] - 0s 71ms/step - loss: 0.0498 - categorical_accuracy: 0.9825\n",
      "Epoch 76/100\n",
      "4/4 [==============================] - 0s 67ms/step - loss: 0.0418 - categorical_accuracy: 0.9912\n",
      "Epoch 77/100\n",
      "4/4 [==============================] - 0s 68ms/step - loss: 0.0359 - categorical_accuracy: 0.9912\n",
      "Epoch 78/100\n",
      "4/4 [==============================] - 0s 66ms/step - loss: 0.0319 - categorical_accuracy: 0.9912\n",
      "Epoch 79/100\n",
      "4/4 [==============================] - 0s 68ms/step - loss: 0.0307 - categorical_accuracy: 0.9912\n",
      "Epoch 80/100\n",
      "4/4 [==============================] - 0s 69ms/step - loss: 0.0352 - categorical_accuracy: 0.9912\n",
      "Epoch 81/100\n",
      "4/4 [==============================] - 0s 67ms/step - loss: 0.0405 - categorical_accuracy: 0.9912\n",
      "Epoch 82/100\n",
      "4/4 [==============================] - 0s 69ms/step - loss: 0.0360 - categorical_accuracy: 0.9912\n",
      "Epoch 83/100\n",
      "4/4 [==============================] - 0s 68ms/step - loss: 0.0391 - categorical_accuracy: 0.9912\n",
      "Epoch 84/100\n",
      "4/4 [==============================] - 0s 75ms/step - loss: 0.0289 - categorical_accuracy: 0.9912\n",
      "Epoch 85/100\n",
      "4/4 [==============================] - 0s 68ms/step - loss: 0.0396 - categorical_accuracy: 0.9912\n",
      "Epoch 86/100\n",
      "4/4 [==============================] - 0s 70ms/step - loss: 0.0235 - categorical_accuracy: 0.9912\n",
      "Epoch 87/100\n",
      "4/4 [==============================] - 0s 69ms/step - loss: 0.0385 - categorical_accuracy: 0.9912\n",
      "Epoch 88/100\n",
      "4/4 [==============================] - 0s 69ms/step - loss: 0.0315 - categorical_accuracy: 0.9912\n",
      "Epoch 89/100\n",
      "4/4 [==============================] - 0s 70ms/step - loss: 0.0307 - categorical_accuracy: 0.9912\n",
      "Epoch 90/100\n",
      "4/4 [==============================] - 0s 69ms/step - loss: 0.0320 - categorical_accuracy: 0.9912\n",
      "Epoch 91/100\n",
      "4/4 [==============================] - 0s 68ms/step - loss: 0.0245 - categorical_accuracy: 0.9912\n",
      "Epoch 92/100\n",
      "4/4 [==============================] - 0s 68ms/step - loss: 0.0295 - categorical_accuracy: 0.9912\n",
      "Epoch 93/100\n",
      "4/4 [==============================] - 0s 74ms/step - loss: 0.0246 - categorical_accuracy: 0.9912\n",
      "Epoch 94/100\n",
      "4/4 [==============================] - 0s 69ms/step - loss: 0.0235 - categorical_accuracy: 0.9912\n",
      "Epoch 95/100\n",
      "4/4 [==============================] - 0s 70ms/step - loss: 0.0248 - categorical_accuracy: 0.9912\n",
      "Epoch 96/100\n",
      "4/4 [==============================] - 0s 72ms/step - loss: 0.0256 - categorical_accuracy: 0.9912\n",
      "Epoch 97/100\n",
      "4/4 [==============================] - 0s 68ms/step - loss: 0.0182 - categorical_accuracy: 0.9912\n",
      "Epoch 98/100\n",
      "4/4 [==============================] - 0s 70ms/step - loss: 0.0189 - categorical_accuracy: 0.9912\n",
      "Epoch 99/100\n",
      "4/4 [==============================] - 0s 70ms/step - loss: 0.0209 - categorical_accuracy: 0.9912\n",
      "Epoch 100/100\n",
      "4/4 [==============================] - 0s 68ms/step - loss: 0.0352 - categorical_accuracy: 0.9912\n"
     ]
    },
    {
     "data": {
      "text/plain": [
       "<keras.callbacks.History at 0x223210874f0>"
      ]
     },
     "execution_count": 170,
     "metadata": {},
     "output_type": "execute_result"
    }
   ],
   "source": [
    "model.fit(X_train, y_train, epochs=100, callbacks=[tb_callback])"
   ]
  },
  {
   "cell_type": "code",
   "execution_count": 171,
   "metadata": {},
   "outputs": [
    {
     "name": "stdout",
     "output_type": "stream",
     "text": [
      "Model: \"sequential_12\"\n",
      "_________________________________________________________________\n",
      " Layer (type)                Output Shape              Param #   \n",
      "=================================================================\n",
      " lstm_36 (LSTM)              (None, 30, 64)            442112    \n",
      "                                                                 \n",
      " lstm_37 (LSTM)              (None, 30, 128)           98816     \n",
      "                                                                 \n",
      " lstm_38 (LSTM)              (None, 64)                49408     \n",
      "                                                                 \n",
      " dense_36 (Dense)            (None, 64)                4160      \n",
      "                                                                 \n",
      " dense_37 (Dense)            (None, 32)                2080      \n",
      "                                                                 \n",
      " dense_38 (Dense)            (None, 4)                 132       \n",
      "                                                                 \n",
      "=================================================================\n",
      "Total params: 596,708\n",
      "Trainable params: 596,708\n",
      "Non-trainable params: 0\n",
      "_________________________________________________________________\n"
     ]
    }
   ],
   "source": [
    "model.summary()"
   ]
  },
  {
   "cell_type": "code",
   "execution_count": 172,
   "metadata": {},
   "outputs": [
    {
     "name": "stdout",
     "output_type": "stream",
     "text": [
      "1/1 [==============================] - 0s 251ms/step\n"
     ]
    }
   ],
   "source": [
    "res = model.predict(X_test)"
   ]
  },
  {
   "cell_type": "code",
   "execution_count": 173,
   "metadata": {},
   "outputs": [
    {
     "data": {
      "text/plain": [
       "'hello'"
      ]
     },
     "execution_count": 173,
     "metadata": {},
     "output_type": "execute_result"
    }
   ],
   "source": [
    "actions[np.argmax(res[2])]"
   ]
  },
  {
   "cell_type": "code",
   "execution_count": 174,
   "metadata": {},
   "outputs": [
    {
     "data": {
      "text/plain": [
       "'hello'"
      ]
     },
     "execution_count": 174,
     "metadata": {},
     "output_type": "execute_result"
    }
   ],
   "source": [
    "actions[np.argmax(y_test[2])]"
   ]
  },
  {
   "cell_type": "code",
   "execution_count": 175,
   "metadata": {},
   "outputs": [],
   "source": [
    "model.save('..//models//hand_signs.h5')"
   ]
  },
  {
   "cell_type": "code",
   "execution_count": 176,
   "metadata": {},
   "outputs": [
    {
     "name": "stdout",
     "output_type": "stream",
     "text": [
      "4/4 [==============================] - 0s 26ms/step\n"
     ]
    }
   ],
   "source": [
    "yhat = model.predict(X_train)"
   ]
  },
  {
   "cell_type": "code",
   "execution_count": 177,
   "metadata": {},
   "outputs": [],
   "source": [
    "ytrue = np.argmax(y_train, axis=1).tolist()\n",
    "yhat = np.argmax(yhat, axis=1).tolist()"
   ]
  },
  {
   "cell_type": "code",
   "execution_count": 178,
   "metadata": {},
   "outputs": [
    {
     "data": {
      "text/plain": [
       "array([[[85,  1],\n",
       "        [ 0, 28]],\n",
       "\n",
       "       [[85,  0],\n",
       "        [ 1, 28]],\n",
       "\n",
       "       [[84,  0],\n",
       "        [ 0, 30]],\n",
       "\n",
       "       [[87,  0],\n",
       "        [ 0, 27]]], dtype=int64)"
      ]
     },
     "execution_count": 178,
     "metadata": {},
     "output_type": "execute_result"
    }
   ],
   "source": [
    "multilabel_confusion_matrix(ytrue, yhat)"
   ]
  },
  {
   "cell_type": "code",
   "execution_count": 179,
   "metadata": {},
   "outputs": [
    {
     "data": {
      "text/plain": [
       "0.9912280701754386"
      ]
     },
     "execution_count": 179,
     "metadata": {},
     "output_type": "execute_result"
    }
   ],
   "source": [
    "accuracy_score(ytrue, yhat)"
   ]
  },
  {
   "cell_type": "code",
   "execution_count": null,
   "metadata": {},
   "outputs": [],
   "source": []
  },
  {
   "cell_type": "code",
   "execution_count": null,
   "metadata": {},
   "outputs": [],
   "source": []
  }
 ],
 "metadata": {
  "kernelspec": {
   "display_name": "Python 3",
   "language": "python",
   "name": "python3"
  },
  "language_info": {
   "codemirror_mode": {
    "name": "ipython",
    "version": 3
   },
   "file_extension": ".py",
   "mimetype": "text/x-python",
   "name": "python",
   "nbconvert_exporter": "python",
   "pygments_lexer": "ipython3",
   "version": "3.10.9"
  },
  "orig_nbformat": 4
 },
 "nbformat": 4,
 "nbformat_minor": 2
}
